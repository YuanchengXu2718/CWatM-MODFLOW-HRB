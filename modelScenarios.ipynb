{
 "cells": [
  {
   "cell_type": "code",
   "execution_count": 1,
   "id": "22141280",
   "metadata": {},
   "outputs": [],
   "source": [
    "import re\n",
    "import os"
   ]
  },
  {
   "cell_type": "code",
   "execution_count": 9,
   "id": "34c6f617",
   "metadata": {},
   "outputs": [],
   "source": [
    "root = \"E:\\CWatM24\\Saq-NCP\\calibration\\catchments_0827_R8\"\n",
    "original_file_path = os.path.join(root, \"00_001/settings_HRB_SW_GW_5min_cali-Run00_001.ini\")\n",
    "folderOut = os.path.join(root, \"00_001_S1\")\n",
    "if not os.path.exists(folderOut):\n",
    "    os.makedirs(folderOut)\n",
    "new_file_path = os.path.join(folderOut, \"settings.ini\")"
   ]
  },
  {
   "cell_type": "code",
   "execution_count": 10,
   "id": "45aaa2d1",
   "metadata": {},
   "outputs": [],
   "source": [
    "with open(original_file_path, 'r', encoding='utf-8') as file:\n",
    "    content = file.read()\n",
    "\n",
    "# 使用正则表达式替换所有匹配项（不区分大小写）\n",
    "# 匹配格式: includeDiversionSNWDC = True (可以有空格，不区分大小写)\n",
    "pattern = r'^(includeDiversionSNWDC\\s*=\\s*)True$'\n",
    "new_content = re.sub(pattern, r'\\1False', content, flags=re.IGNORECASE | re.MULTILINE)\n",
    "\n",
    "# 将修改后的内容写入新文件\n",
    "with open(new_file_path, 'w', encoding='utf-8') as file:\n",
    "    file.write(new_content)"
   ]
  },
  {
   "cell_type": "code",
   "execution_count": null,
   "id": "72e410ce",
   "metadata": {},
   "outputs": [],
   "source": [
    "def modify_ini_and_save_copy(original_file_path, new_file_path=None):\n",
    "    \"\"\"\n",
    "    读取INI文件，将includeDiversionSNWDC = True替换为False，并保存到新文件\n",
    "    \n",
    "    参数:\n",
    "        original_file_path (str): 原始INI文件的路径\n",
    "        new_file_path (str): 新文件的路径，如果为None则自动生成\n",
    "    \"\"\"\n",
    "    # 检查原始文件是否存在\n",
    "    if not os.path.exists(original_file_path):\n",
    "        print(f\"错误: 文件 '{original_file_path}' 不存在\")\n",
    "        return False\n",
    "    \n",
    "    # 如果没有指定新文件路径，则自动生成\n",
    "    if new_file_path is None:\n",
    "        base_name, ext = os.path.splitext(original_file_path)\n",
    "        new_file_path = f\"{base_name}_modified{ext}\"\n",
    "    \n",
    "    try:\n",
    "        # 读取原始文件内容\n",
    "        with open(original_file_path, 'r', encoding='utf-8') as file:\n",
    "            content = file.read()\n",
    "        \n",
    "        # 使用正则表达式替换所有匹配项（不区分大小写）\n",
    "        # 匹配格式: includeDiversionSNWDC = True (可以有空格，不区分大小写)\n",
    "        pattern = r'^(includeDiversionSNWDC\\s*=\\s*)True$'\n",
    "        new_content = re.sub(pattern, r'\\1False', content, flags=re.IGNORECASE | re.MULTILINE)\n",
    "        \n",
    "        # 检查是否有修改\n",
    "        if content == new_content:\n",
    "            print(\"未找到需要修改的配置项\")\n",
    "            return False\n",
    "        \n",
    "        # 将修改后的内容写入新文件\n",
    "        with open(new_file_path, 'w', encoding='utf-8') as file:\n",
    "            file.write(new_content)\n",
    "        \n",
    "        print(f\"修改成功！新文件已保存为: {new_file_path}\")\n",
    "        print(\"原始文件未被修改\")\n",
    "        return True\n",
    "        \n",
    "    except Exception as e:\n",
    "        print(f\"处理文件时出错: {e}\")\n",
    "        return False\n",
    "\n",
    "# 使用示例\n",
    "if __name__ == \"__main__\":\n",
    "    # 指定原始INI文件路径\n",
    "    original_ini_file = \"config.ini\"  # 替换为你的INI文件路径\n",
    "    \n",
    "    # 可选：指定新文件路径，如果为None则自动生成\n",
    "    new_ini_file = \"config_modified.ini\"  # 可以设置为None让程序自动生成\n",
    "    \n",
    "    # 调用函数处理文件\n",
    "    modify_ini_and_save_copy(original_ini_file, new_ini_file)"
   ]
  }
 ],
 "metadata": {
  "kernelspec": {
   "display_name": "base",
   "language": "python",
   "name": "python3"
  },
  "language_info": {
   "codemirror_mode": {
    "name": "ipython",
    "version": 3
   },
   "file_extension": ".py",
   "mimetype": "text/x-python",
   "name": "python",
   "nbconvert_exporter": "python",
   "pygments_lexer": "ipython3",
   "version": "3.11.7"
  }
 },
 "nbformat": 4,
 "nbformat_minor": 5
}
